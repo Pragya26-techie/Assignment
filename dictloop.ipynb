{
 "cells": [
  {
   "cell_type": "code",
   "execution_count": 1,
   "id": "80b73f6d-51ec-4e85-bde9-8a5c1bc76772",
   "metadata": {},
   "outputs": [],
   "source": [
    "d = {}"
   ]
  },
  {
   "cell_type": "code",
   "execution_count": 1,
   "id": "ea9baa96-610d-42e3-81c3-8408bc048edd",
   "metadata": {},
   "outputs": [
    {
     "ename": "NameError",
     "evalue": "name 'd' is not defined",
     "output_type": "error",
     "traceback": [
      "\u001b[0;31m---------------------------------------------------------------------------\u001b[0m",
      "\u001b[0;31mNameError\u001b[0m                                 Traceback (most recent call last)",
      "Cell \u001b[0;32mIn[1], line 1\u001b[0m\n\u001b[0;32m----> 1\u001b[0m \u001b[38;5;28mtype\u001b[39m(\u001b[43md\u001b[49m)\n",
      "\u001b[0;31mNameError\u001b[0m: name 'd' is not defined"
     ]
    }
   ],
   "source": [
    "type(d)"
   ]
  },
  {
   "cell_type": "code",
   "execution_count": 3,
   "id": "5f35a59d-e251-4351-92a9-7f553c423045",
   "metadata": {},
   "outputs": [
    {
     "data": {
      "text/plain": [
       "dict"
      ]
     },
     "execution_count": 3,
     "metadata": {},
     "output_type": "execute_result"
    }
   ],
   "source": [
    "type(d)"
   ]
  },
  {
   "cell_type": "code",
   "execution_count": 1,
   "id": "3d7bb098-2abe-445e-96e2-b915be6f25ee",
   "metadata": {},
   "outputs": [],
   "source": [
    "d1 = {'key' :\"pragya\"}"
   ]
  },
  {
   "cell_type": "code",
   "execution_count": null,
   "id": "0598e850-b4de-46ba-a585-7775fc375056",
   "metadata": {},
   "outputs": [],
   "source": [
    "d1"
   ]
  },
  {
   "cell_type": "code",
   "execution_count": null,
   "id": "63c27143-e549-4abc-b2ee-4306721b7272",
   "metadata": {},
   "outputs": [],
   "source": [
    "d2 = {'name' :\"pragya\", 'emai':\"pragya@26gmail.com\", \"number\" :334455}"
   ]
  },
  {
   "cell_type": "code",
   "execution_count": null,
   "id": "37245059-812e-411b-a161-5be552cfcc73",
   "metadata": {},
   "outputs": [],
   "source": [
    "d2"
   ]
  },
  {
   "cell_type": "code",
   "execution_count": 3,
   "id": "3e4ef04b-715c-456e-96cb-7b270d61b3f8",
   "metadata": {},
   "outputs": [],
   "source": [
    "d2 = {'name' :\"pragya\",'email':\"pra26@gmail.com\",\"number\":2345}"
   ]
  },
  {
   "cell_type": "code",
   "execution_count": 4,
   "id": "4221e43d-f4cf-44b7-8483-ee901c91258f",
   "metadata": {},
   "outputs": [
    {
     "data": {
      "text/plain": [
       "{'name': 'pragya', 'email': 'pra26@gmail.com', 'number': 2345}"
      ]
     },
     "execution_count": 4,
     "metadata": {},
     "output_type": "execute_result"
    }
   ],
   "source": [
    "d2"
   ]
  },
  {
   "cell_type": "code",
   "execution_count": 7,
   "id": "4050ddfa-0039-4b14-bd4c-e187f8f49989",
   "metadata": {},
   "outputs": [],
   "source": [
    "d3 ={234:\"live\",'_wrec': \"singh\",False:234}"
   ]
  },
  {
   "cell_type": "code",
   "execution_count": 8,
   "id": "64241041-5e48-44c0-a893-3c2145ac660c",
   "metadata": {},
   "outputs": [
    {
     "data": {
      "text/plain": [
       "{234: 'live', '_wrec': 'singh', False: 234}"
      ]
     },
     "execution_count": 8,
     "metadata": {},
     "output_type": "execute_result"
    }
   ],
   "source": [
    "d3"
   ]
  },
  {
   "cell_type": "code",
   "execution_count": 10,
   "id": "302ceb0a-a3c1-4fce-86cc-5fdfbda4e1ba",
   "metadata": {},
   "outputs": [
    {
     "data": {
      "text/plain": [
       "'live'"
      ]
     },
     "execution_count": 10,
     "metadata": {},
     "output_type": "execute_result"
    }
   ],
   "source": [
    "d3[234]"
   ]
  },
  {
   "cell_type": "code",
   "execution_count": 19,
   "id": "98fcf060-3e7f-4c9a-919f-e557ab818a89",
   "metadata": {},
   "outputs": [
    {
     "data": {
      "text/plain": [
       "23456"
      ]
     },
     "execution_count": 19,
     "metadata": {},
     "output_type": "execute_result"
    }
   ],
   "source": [
    "d3[False]"
   ]
  },
  {
   "cell_type": "code",
   "execution_count": 21,
   "id": "e9102d07-7b94-4414-b743-9fad00ba3d1e",
   "metadata": {},
   "outputs": [
    {
     "data": {
      "text/plain": [
       "23456"
      ]
     },
     "execution_count": 21,
     "metadata": {},
     "output_type": "execute_result"
    }
   ],
   "source": [
    "d3[0]"
   ]
  },
  {
   "cell_type": "code",
   "execution_count": 22,
   "id": "3cfab316-9153-4dad-b520-c7413996ca86",
   "metadata": {},
   "outputs": [],
   "source": [
    " d5 ={\"company\" : \"infosys\", \"job\" :[\"data analyst\" , \"data sciensce\",\"counsultant\"]}"
   ]
  },
  {
   "cell_type": "code",
   "execution_count": 23,
   "id": "72c46c47-8de5-423d-ad40-544a27392617",
   "metadata": {},
   "outputs": [
    {
     "data": {
      "text/plain": [
       "{'company': 'infosys', 'job': ['data analyst', 'data sciensce', 'counsultant']}"
      ]
     },
     "execution_count": 23,
     "metadata": {},
     "output_type": "execute_result"
    }
   ],
   "source": [
    "d5"
   ]
  },
  {
   "cell_type": "code",
   "execution_count": 25,
   "id": "b68c3b4e-4290-44cb-ad53-5ef620082d7f",
   "metadata": {},
   "outputs": [
    {
     "data": {
      "text/plain": [
       "['data analyst', 'data sciensce', 'counsultant']"
      ]
     },
     "execution_count": 25,
     "metadata": {},
     "output_type": "execute_result"
    }
   ],
   "source": [
    "d5['job']"
   ]
  },
  {
   "cell_type": "code",
   "execution_count": 26,
   "id": "712febec-f1a2-4e45-b175-78792977f755",
   "metadata": {},
   "outputs": [
    {
     "data": {
      "text/plain": [
       "'data sciensce'"
      ]
     },
     "execution_count": 26,
     "metadata": {},
     "output_type": "execute_result"
    }
   ],
   "source": [
    "d5['job'][1]"
   ]
  },
  {
   "cell_type": "code",
   "execution_count": 29,
   "id": "34324b06-79c5-4fa7-9d4a-afa89abb9d62",
   "metadata": {},
   "outputs": [],
   "source": [
    "d6 = {\"number\" : [2,34,3,43,34] , \"assignment\":(1,2,3,4,5,6), \"launch_date\":{28,12,14\n",
    "                                                                             }}"
   ]
  },
  {
   "cell_type": "code",
   "execution_count": 30,
   "id": "cb253c44-6f60-4516-8ee4-b3f8ab968aba",
   "metadata": {},
   "outputs": [
    {
     "data": {
      "text/plain": [
       "{'number': [2, 34, 3, 43, 34],\n",
       " 'assignment': (1, 2, 3, 4, 5, 6),\n",
       " 'launch_date': {12, 14, 28}}"
      ]
     },
     "execution_count": 30,
     "metadata": {},
     "output_type": "execute_result"
    }
   ],
   "source": [
    "d6"
   ]
  },
  {
   "cell_type": "code",
   "execution_count": 32,
   "id": "30077db6-51bf-455b-b5f5-b95375dea2e8",
   "metadata": {},
   "outputs": [],
   "source": [
    "d6['friend'] = [\"prakhar\",\"puchuu\",\"bhai\"]"
   ]
  },
  {
   "cell_type": "code",
   "execution_count": 33,
   "id": "e5d4acc1-bd47-4364-86b5-ec03ad289a1b",
   "metadata": {},
   "outputs": [
    {
     "data": {
      "text/plain": [
       "{'number': [2, 34, 3, 43, 34],\n",
       " 'assignment': (1, 2, 3, 4, 5, 6),\n",
       " 'launch_date': {12, 14, 28},\n",
       " 'friend': ['prakhar', 'puchuu', 'bhai']}"
      ]
     },
     "execution_count": 33,
     "metadata": {},
     "output_type": "execute_result"
    }
   ],
   "source": [
    "d6"
   ]
  },
  {
   "cell_type": "code",
   "execution_count": 34,
   "id": "48b9addd-1d3e-4e3f-be5c-d19f8965b7a0",
   "metadata": {},
   "outputs": [],
   "source": [
    "del d6['number']"
   ]
  },
  {
   "cell_type": "code",
   "execution_count": 35,
   "id": "6e7c1317-b42a-4181-8c01-ba169419ca80",
   "metadata": {},
   "outputs": [
    {
     "data": {
      "text/plain": [
       "{'assignment': (1, 2, 3, 4, 5, 6),\n",
       " 'launch_date': {12, 14, 28},\n",
       " 'friend': ['prakhar', 'puchuu', 'bhai']}"
      ]
     },
     "execution_count": 35,
     "metadata": {},
     "output_type": "execute_result"
    }
   ],
   "source": [
    "d6"
   ]
  },
  {
   "cell_type": "code",
   "execution_count": 36,
   "id": "f3e20204-4774-4236-beab-902eca2c5367",
   "metadata": {},
   "outputs": [
    {
     "data": {
      "text/plain": [
       "{'assignment': (1, 2, 3, 4, 5, 6),\n",
       " 'launch_date': {12, 14, 28},\n",
       " 'friend': ['prakhar', 'puchuu', 'bhai']}"
      ]
     },
     "execution_count": 36,
     "metadata": {},
     "output_type": "execute_result"
    }
   ],
   "source": [
    "d6"
   ]
  },
  {
   "cell_type": "code",
   "execution_count": 37,
   "id": "b1ce12c1-962a-4473-bd9d-4d04c1c3e600",
   "metadata": {},
   "outputs": [
    {
     "data": {
      "text/plain": [
       "dict_keys(['assignment', 'launch_date', 'friend'])"
      ]
     },
     "execution_count": 37,
     "metadata": {},
     "output_type": "execute_result"
    }
   ],
   "source": [
    "d6.keys()"
   ]
  },
  {
   "cell_type": "code",
   "execution_count": 38,
   "id": "34ff043a-8462-4475-833a-bdfd1a4bc9af",
   "metadata": {},
   "outputs": [
    {
     "data": {
      "text/plain": [
       "['assignment', 'launch_date', 'friend']"
      ]
     },
     "execution_count": 38,
     "metadata": {},
     "output_type": "execute_result"
    }
   ],
   "source": [
    "list(d6.keys())"
   ]
  },
  {
   "cell_type": "code",
   "execution_count": 39,
   "id": "1702588f-f147-4b4d-841a-21cea9d23984",
   "metadata": {},
   "outputs": [
    {
     "data": {
      "text/plain": [
       "dict_values([(1, 2, 3, 4, 5, 6), {28, 12, 14}, ['prakhar', 'puchuu', 'bhai']])"
      ]
     },
     "execution_count": 39,
     "metadata": {},
     "output_type": "execute_result"
    }
   ],
   "source": [
    "d6.values()"
   ]
  },
  {
   "cell_type": "code",
   "execution_count": 41,
   "id": "983fb0d0-2fd3-49c2-b8dd-2a250e1c8280",
   "metadata": {},
   "outputs": [
    {
     "data": {
      "text/plain": [
       "dict_items([('assignment', (1, 2, 3, 4, 5, 6)), ('launch_date', {28, 12, 14}), ('friend', ['prakhar', 'puchuu', 'bhai'])])"
      ]
     },
     "execution_count": 41,
     "metadata": {},
     "output_type": "execute_result"
    }
   ],
   "source": [
    "d6.items()"
   ]
  },
  {
   "cell_type": "code",
   "execution_count": null,
   "id": "af4c94e0-fcdd-4c39-a2fb-0b69738f87dd",
   "metadata": {},
   "outputs": [],
   "source": [
    "d6.fromkeys"
   ]
  },
  {
   "cell_type": "code",
   "execution_count": 5,
   "id": "4f28b84f-ca52-4e5c-9192-08369950580d",
   "metadata": {},
   "outputs": [
    {
     "name": "stdin",
     "output_type": "stream",
     "text": [
      "marks 45\n"
     ]
    },
    {
     "name": "stdout",
     "output_type": "stream",
     "text": [
      "Beginner batch\n"
     ]
    }
   ],
   "source": [
    "marks = int(input(\"marks\"))\n",
    "if marks >= 80:\n",
    "    print(\"Brilliant batch\")\n",
    "elif marks >=60 and marks < 80:\n",
    "    print(\"Average Batch\")\n",
    "elif marks >=40 and marks < 60 : \n",
    "    print(\"Beginner batch\")\n",
    "else :\n",
    "    print(\"Improvement batch\")"
   ]
  },
  {
   "cell_type": "code",
   "execution_count": 3,
   "id": "be9ee7c1-ee7d-44df-b96c-3933d1ed98f2",
   "metadata": {},
   "outputs": [
    {
     "data": {
      "text/plain": [
       "False"
      ]
     },
     "execution_count": 3,
     "metadata": {},
     "output_type": "execute_result"
    }
   ],
   "source": [
    "10 >=80"
   ]
  },
  {
   "cell_type": "code",
   "execution_count": 3,
   "id": "a4692fdf-3330-4e9e-9f91-2a961d5c7bb8",
   "metadata": {},
   "outputs": [
    {
     "data": {
      "text/plain": [
       "'10'"
      ]
     },
     "execution_count": 3,
     "metadata": {},
     "output_type": "execute_result"
    }
   ],
   "source": [
    "marks"
   ]
  },
  {
   "cell_type": "code",
   "execution_count": 4,
   "id": "8b8d32d3-d2bc-4e42-afad-94d5ad3f5c98",
   "metadata": {},
   "outputs": [
    {
     "data": {
      "text/plain": [
       "str"
      ]
     },
     "execution_count": 4,
     "metadata": {},
     "output_type": "execute_result"
    }
   ],
   "source": [
    "type(marks)"
   ]
  },
  {
   "cell_type": "code",
   "execution_count": 20,
   "id": "31ecfcbb-043f-4163-bdc5-edb121a7c625",
   "metadata": {},
   "outputs": [
    {
     "name": "stdin",
     "output_type": "stream",
     "text": [
      "enter price 0\n"
     ]
    },
    {
     "name": "stdout",
     "output_type": "stream",
     "text": [
      "i will purchase\n"
     ]
    }
   ],
   "source": [
    "price = int(input(\"enter price\"))\n",
    "if price > 1000:\n",
    "    print(\"i will not purchase\")\n",
    "    if price >5000:\n",
    "        print(\"this is too mch\")\n",
    "    elif price < 2000:\n",
    "        print(\"its ok\")\n",
    "elif price < 1000:\n",
    "    print(\"i will purchase\")\n",
    "else:\n",
    "    (\"not interested\")"
   ]
  },
  {
   "cell_type": "code",
   "execution_count": 2,
   "id": "755af351-241b-4095-b3b7-d4489b4c31e4",
   "metadata": {},
   "outputs": [],
   "source": [
    "l  = [1,2,3,4,5,6]\n"
   ]
  },
  {
   "cell_type": "code",
   "execution_count": 22,
   "id": "27a7991f-11c5-42be-9a8b-04705287f8e7",
   "metadata": {},
   "outputs": [
    {
     "name": "stdout",
     "output_type": "stream",
     "text": [
      "1\n",
      "2\n",
      "3\n",
      "4\n",
      "5\n",
      "6\n"
     ]
    }
   ],
   "source": [
    "for i in l : \n",
    "    print(i)"
   ]
  },
  {
   "cell_type": "code",
   "execution_count": 25,
   "id": "4e789874-6b47-40e2-9149-1fa72045fe6b",
   "metadata": {},
   "outputs": [
    {
     "ename": "SyntaxError",
     "evalue": "cannot assign to expression (2542589327.py, line 1)",
     "output_type": "error",
     "traceback": [
      "\u001b[0;36m  Cell \u001b[0;32mIn[25], line 1\u001b[0;36m\u001b[0m\n\u001b[0;31m    for(i==1, i <=l,i+1)\u001b[0m\n\u001b[0m                    ^\u001b[0m\n\u001b[0;31mSyntaxError\u001b[0m\u001b[0;31m:\u001b[0m cannot assign to expression\n"
     ]
    }
   ],
   "source": [
    "for(i==1, i <=l,i+1)\n",
    "    print(l)"
   ]
  },
  {
   "cell_type": "code",
   "execution_count": 4,
   "id": "db634a3c-ba44-4d8f-acae-366b84d9d20f",
   "metadata": {},
   "outputs": [
    {
     "name": "stdout",
     "output_type": "stream",
     "text": [
      "2\n",
      "3\n",
      "4\n",
      "5\n",
      "6\n",
      "7\n"
     ]
    }
   ],
   "source": [
    "l1 = []\n",
    "for i in l:\n",
    "    print(i+1)\n",
    "    l1.append(i+1)"
   ]
  },
  {
   "cell_type": "code",
   "execution_count": 5,
   "id": "73db6bd6-210c-426c-8c16-50051b1333ba",
   "metadata": {},
   "outputs": [
    {
     "data": {
      "text/plain": [
       "[2, 3, 4, 5, 6, 7]"
      ]
     },
     "execution_count": 5,
     "metadata": {},
     "output_type": "execute_result"
    }
   ],
   "source": [
    "l1"
   ]
  },
  {
   "cell_type": "code",
   "execution_count": 6,
   "id": "e6092f3d-3a8a-4eb4-9fc5-d56c376cbacf",
   "metadata": {},
   "outputs": [],
   "source": [
    "l = [\"sudh\", \"kumar\" , \"pwskills\", \"course\"]"
   ]
  },
  {
   "cell_type": "code",
   "execution_count": 8,
   "id": "eb47dc97-54af-4331-aad6-f6dbccff24e9",
   "metadata": {},
   "outputs": [
    {
     "name": "stdout",
     "output_type": "stream",
     "text": [
      "sudh\n",
      "kumar\n",
      "pwskills\n",
      "course\n"
     ]
    }
   ],
   "source": [
    "l1 = []\n",
    "for i in l:\n",
    "    print(i)\n",
    "    l1.append(i.upper())"
   ]
  },
  {
   "cell_type": "code",
   "execution_count": 9,
   "id": "d9fb8172-813d-4315-af70-f71db839896d",
   "metadata": {},
   "outputs": [
    {
     "data": {
      "text/plain": [
       "['SUDH', 'KUMAR', 'PWSKILLS', 'COURSE']"
      ]
     },
     "execution_count": 9,
     "metadata": {},
     "output_type": "execute_result"
    }
   ],
   "source": [
    "l1"
   ]
  },
  {
   "cell_type": "code",
   "execution_count": 11,
   "id": "a6495141-8538-4ba4-991a-d07951e57fb9",
   "metadata": {},
   "outputs": [],
   "source": [
    "l = [1,2,3,4, \"sudh\" , \"kumar\" ,324.45, \"abc\"]"
   ]
  },
  {
   "cell_type": "code",
   "execution_count": 17,
   "id": "3b531f44-e1da-4999-9554-eb68888e496d",
   "metadata": {},
   "outputs": [],
   "source": [
    "l1 = []\n",
    "l2 = []\n",
    "for i in l :\n",
    "    if type(i) == int or type(i) == float :\n",
    "       l1.append(i)\n",
    "    else:\n",
    "        l2.append(i)"
   ]
  },
  {
   "cell_type": "code",
   "execution_count": 14,
   "id": "0fbcd647-8c1a-41bb-84a6-acfdf9d1147b",
   "metadata": {},
   "outputs": [
    {
     "data": {
      "text/plain": [
       "[1, 2, 3, 4, 324.45]"
      ]
     },
     "execution_count": 14,
     "metadata": {},
     "output_type": "execute_result"
    }
   ],
   "source": [
    "l1"
   ]
  },
  {
   "cell_type": "code",
   "execution_count": 18,
   "id": "94c627bf-279e-4be7-afac-99b44a4a9f6d",
   "metadata": {},
   "outputs": [
    {
     "data": {
      "text/plain": [
       "['sudh', 'kumar', 'abc']"
      ]
     },
     "execution_count": 18,
     "metadata": {},
     "output_type": "execute_result"
    }
   ],
   "source": [
    "l2"
   ]
  },
  {
   "cell_type": "code",
   "execution_count": null,
   "id": "0d3f0ae7-7516-48ea-b018-66b8de309fc3",
   "metadata": {},
   "outputs": [],
   "source": []
  }
 ],
 "metadata": {
  "kernelspec": {
   "display_name": "Python 3 (ipykernel)",
   "language": "python",
   "name": "python3"
  },
  "language_info": {
   "codemirror_mode": {
    "name": "ipython",
    "version": 3
   },
   "file_extension": ".py",
   "mimetype": "text/x-python",
   "name": "python",
   "nbconvert_exporter": "python",
   "pygments_lexer": "ipython3",
   "version": "3.10.8"
  }
 },
 "nbformat": 4,
 "nbformat_minor": 5
}
